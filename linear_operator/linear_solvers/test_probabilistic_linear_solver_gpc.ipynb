{
 "cells": [
  {
   "cell_type": "code",
   "execution_count": 1,
   "id": "5eedb246",
   "metadata": {},
   "outputs": [
    {
     "name": "stdout",
     "output_type": "stream",
     "text": [
      "DEVICE =  cpu\n"
     ]
    }
   ],
   "source": [
    "import torch\n",
    "torch.random.manual_seed(0)\n",
    "\n",
    "import linear_operator\n",
    "\n",
    "# Numerics and computing\n",
    "DEVICE = torch.device(\"cuda\") if torch.cuda.is_available() else torch.device(\"cpu\")\n",
    "print(\"DEVICE = \", DEVICE)"
   ]
  },
  {
   "cell_type": "code",
   "execution_count": 2,
   "id": "e1c80150",
   "metadata": {},
   "outputs": [],
   "source": [
    "N = 5\n",
    "A = torch.rand(N, N)\n",
    "A = A @ A.T + 1e-3 * torch.eye(N)\n",
    "A = A.to(DEVICE)\n",
    "\n",
    "# Linear system solution\n",
    "x = torch.rand(N, device=DEVICE)\n",
    "\n",
    "# Linear system right hand side\n",
    "b = A @ x"
   ]
  },
  {
   "cell_type": "code",
   "execution_count": 3,
   "id": "43c78a6e",
   "metadata": {},
   "outputs": [
    {
     "name": "stdout",
     "output_type": "stream",
     "text": [
      "[KeOps] Warning : \n",
      "    The default C++ compiler could not be found on your system.\n",
      "    You need to either define the CXX environment variable or a symlink to the g++ command.\n",
      "    For example if g++-8 is the command you can do\n",
      "      import os\n",
      "      os.environ['CXX'] = 'g++-8'\n",
      "    \n",
      "[KeOps] Warning : Cuda libraries were not detected on the system ; using cpu only mode\n",
      "x_0 = tensor([0., 0., 0., 0., 0.], requires_grad=True)\n",
      "x_1 = tensor([0.3399, 0.5502, 0.2242, 0.4610, 0.5807])\n",
      "x_2 = tensor([0.2615, 0.6941, 0.1996, 0.4979, 0.4755])\n",
      "x_3 = tensor([0.3133, 0.8512, 0.3546, 0.3093, 0.3883])\n",
      "x_4 = tensor([0.3281, 0.8498, 0.3590, 0.3156, 0.3744])\n",
      "x_5 = tensor([0.5530, 0.9528, 0.0360, 0.1852, 0.3734])\n",
      "\n",
      "Error: 1.386e-04\n"
     ]
    }
   ],
   "source": [
    "from linear_operator.linear_solvers import PLS_GPC\n",
    "from linear_operator.linear_solvers.policies import UnitVectorPolicy, GradientPolicy\n",
    "\n",
    "\n",
    "pls = PLS_GPC(policy=GradientPolicy(), max_iter=N)\n",
    "\n",
    "with torch.no_grad():\n",
    "    for solver_state in pls.solve_iterator(A, b):\n",
    "        print(f\"x_{solver_state.iteration} =\", solver_state.solution)\n",
    "        \n",
    "print(f\"\\nError: {torch.max(torch.abs(solver_state.solution - x)).item():.3e}\")"
   ]
  },
  {
   "cell_type": "code",
   "execution_count": null,
   "id": "adbec0c6",
   "metadata": {},
   "outputs": [],
   "source": []
  }
 ],
 "metadata": {
  "kernelspec": {
   "display_name": "Python 3 (ipykernel)",
   "language": "python",
   "name": "python3"
  },
  "language_info": {
   "codemirror_mode": {
    "name": "ipython",
    "version": 3
   },
   "file_extension": ".py",
   "mimetype": "text/x-python",
   "name": "python",
   "nbconvert_exporter": "python",
   "pygments_lexer": "ipython3",
   "version": "3.10.9"
  }
 },
 "nbformat": 4,
 "nbformat_minor": 5
}
