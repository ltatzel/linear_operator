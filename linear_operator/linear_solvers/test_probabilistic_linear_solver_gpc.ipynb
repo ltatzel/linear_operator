{
 "cells": [
  {
   "cell_type": "code",
   "execution_count": 1,
   "id": "5eedb246",
   "metadata": {},
   "outputs": [
    {
     "name": "stdout",
     "output_type": "stream",
     "text": [
      "DEVICE =  cpu\n"
     ]
    }
   ],
   "source": [
    "import torch\n",
    "torch.random.manual_seed(0)\n",
    "\n",
    "import linear_operator\n",
    "\n",
    "# Numerics and computing\n",
    "DEVICE = torch.device(\"cuda\") if torch.cuda.is_available() else torch.device(\"cpu\")\n",
    "print(\"DEVICE = \", DEVICE)"
   ]
  },
  {
   "cell_type": "markdown",
   "id": "0f166b94",
   "metadata": {},
   "source": [
    "## Problem definition"
   ]
  },
  {
   "cell_type": "code",
   "execution_count": 2,
   "id": "e1c80150",
   "metadata": {},
   "outputs": [
    {
     "name": "stdout",
     "output_type": "stream",
     "text": [
      "K = \n",
      " tensor([[ 1.7271e+00,  3.6748e-01, -2.7473e-02, -8.5865e-01,  1.7001e-01,\n",
      "          1.3566e+00],\n",
      "        [ 3.6748e-01,  8.3693e-01, -6.9722e-01, -2.2924e-01,  1.2817e-03,\n",
      "          1.0237e+00],\n",
      "        [-2.7473e-02, -6.9722e-01,  2.0389e+00,  1.1847e+00, -7.2450e-01,\n",
      "         -7.8783e-01],\n",
      "        [-8.5865e-01, -2.2924e-01,  1.1847e+00,  2.0730e+00, -4.3813e-01,\n",
      "         -1.2867e+00],\n",
      "        [ 1.7001e-01,  1.2817e-03, -7.2450e-01, -4.3813e-01,  2.1780e+00,\n",
      "          6.7130e-01],\n",
      "        [ 1.3566e+00,  1.0237e+00, -7.8783e-01, -1.2867e+00,  6.7130e-01,\n",
      "          2.8957e+00]])\n",
      "Winv = \n",
      " tensor([[-0.5837,  0.0000,  0.0000,  0.0000,  0.0000,  0.0000],\n",
      "        [ 0.0000,  0.8596,  0.0000,  0.0000,  0.0000,  0.0000],\n",
      "        [ 0.0000,  0.0000,  0.4462,  0.0000,  0.0000,  0.0000],\n",
      "        [ 0.0000,  0.0000,  0.0000,  0.4847,  0.0000,  0.0000],\n",
      "        [ 0.0000,  0.0000,  0.0000,  0.0000,  0.0526,  0.0000],\n",
      "        [ 0.0000,  0.0000,  0.0000,  0.0000,  0.0000, -0.5127]])\n"
     ]
    }
   ],
   "source": [
    "N = 6\n",
    "\n",
    "# Operators `K` and `Winv`\n",
    "K = 2 * torch.rand(N, N) - 1\n",
    "K = K @ K.T + 1e-6 * torch.eye(N)\n",
    "K = K.to(DEVICE)\n",
    "print(\"K = \\n\", K)\n",
    "\n",
    "Winv = torch.diag(2 * torch.rand(N) - 1)\n",
    "print(\"Winv = \\n\", Winv)\n",
    "\n",
    "# Linear system solution\n",
    "x = 2 * torch.rand(N, device=DEVICE) - 1\n",
    "\n",
    "# Linear system right hand side\n",
    "rhs = (K + Winv) @ x"
   ]
  },
  {
   "cell_type": "markdown",
   "id": "bc8e35c6",
   "metadata": {},
   "source": [
    "## First solve\n",
    "\n",
    "For the first solve, we restrict the number of iterations to `3`."
   ]
  },
  {
   "cell_type": "code",
   "execution_count": 3,
   "id": "43c78a6e",
   "metadata": {},
   "outputs": [
    {
     "name": "stdout",
     "output_type": "stream",
     "text": [
      "[KeOps] Warning : \n",
      "    The default C++ compiler could not be found on your system.\n",
      "    You need to either define the CXX environment variable or a symlink to the g++ command.\n",
      "    For example if g++-8 is the command you can do\n",
      "      import os\n",
      "      os.environ['CXX'] = 'g++-8'\n",
      "    \n",
      "[KeOps] Warning : Cuda libraries were not detected on the system ; using cpu only mode\n",
      "[PLS_GPC] Case 2: Setting `x` to zero\n",
      "\n",
      "Iteration 0\n",
      "x = tensor([0., 0., 0., 0., 0., 0.])\n",
      "actions = \n",
      " None\n",
      "K_op_actions = \n",
      " None\n",
      "\n",
      "Iteration 1\n",
      "x = tensor([ 0.2351, -0.0578, -0.5181, -0.6066,  0.4985,  0.4500])\n",
      "actions = \n",
      " tensor([[ 1.2155],\n",
      "        [-0.2989],\n",
      "        [-2.6791],\n",
      "        [-3.1367],\n",
      "        [ 2.5779],\n",
      "        [ 2.3271]])\n",
      "K_op_actions = \n",
      " tensor([[  8.3516],\n",
      "        [  5.1691],\n",
      "        [-12.7049],\n",
      "        [-14.7756],\n",
      "        [ 10.6986],\n",
      "        [ 15.9589]])\n",
      "\n",
      "Iteration 2\n",
      "x = tensor([ 0.1553, -0.6285, -0.5982, -0.6985,  0.7965,  0.2856])\n",
      "actions = \n",
      " tensor([[ 1.2155, -0.2623],\n",
      "        [-0.2989, -1.2488],\n",
      "        [-2.6791,  0.0089],\n",
      "        [-3.1367,  0.0146],\n",
      "        [ 2.5779,  0.4828],\n",
      "        [ 2.3271, -0.5284]])\n",
      "K_op_actions = \n",
      " tensor([[  8.3516,  -1.5594],\n",
      "        [  5.1691,  -1.6914],\n",
      "        [-12.7049,   0.9797],\n",
      "        [-14.7756,   1.0205],\n",
      "        [ 10.6986,   0.6379],\n",
      "        [ 15.9589,  -2.8659]])\n",
      "\n",
      "Iteration 3\n",
      "x = tensor([ 0.2711, -0.8387, -0.6032, -0.6463,  0.6781,  0.4354])\n",
      "actions = \n",
      " tensor([[ 1.2155, -0.2623,  0.1298],\n",
      "        [-0.2989, -1.2488, -0.1604],\n",
      "        [-2.6791,  0.0089,  0.0032],\n",
      "        [-3.1367,  0.0146,  0.0644],\n",
      "        [ 2.5779,  0.4828, -0.1555],\n",
      "        [ 2.3271, -0.5284,  0.1743]])\n",
      "K_op_actions = \n",
      " tensor([[  8.3516,  -1.5594,   0.3199],\n",
      "        [  5.1691,  -1.6914,   0.0748],\n",
      "        [-12.7049,   0.9797,   0.1664],\n",
      "        [-14.7756,   1.0205,  -0.0936],\n",
      "        [ 10.6986,   0.6379,  -0.2303],\n",
      "        [ 15.9589,  -2.8659,   0.3270]])\n"
     ]
    }
   ],
   "source": [
    "from linear_operator.linear_solvers import PLS_GPC\n",
    "from linear_operator.linear_solvers.policies import UnitVectorPolicy, GradientPolicy\n",
    "\n",
    "\n",
    "pls = PLS_GPC(policy=GradientPolicy(), max_iter=3)\n",
    "\n",
    "with torch.no_grad():\n",
    "    for solver_state in pls.solve_iterator(K, Winv, rhs=rhs):\n",
    "        print(\"\\nIteration\", solver_state.iteration)\n",
    "        print(\"x =\", solver_state.solution)\n",
    "        print(\"actions = \\n\", solver_state.cache[\"actions\"])\n",
    "        print(\"K_op_actions = \\n\", solver_state.cache[\"K_op_actions\"])"
   ]
  },
  {
   "cell_type": "markdown",
   "id": "1e6b88b6",
   "metadata": {},
   "source": [
    "## Second (preconditioned) solve\n",
    "\n",
    "Now, we let the solver run for a maximum of `N = 6` iterations. Note that we use the same `Winv` for the second run. So, the solver converges in `3` iterations (because it has already performed `3` in the first run)."
   ]
  },
  {
   "cell_type": "code",
   "execution_count": 4,
   "id": "c1be0612",
   "metadata": {
    "scrolled": false
   },
   "outputs": [
    {
     "name": "stdout",
     "output_type": "stream",
     "text": [
      "[PLS_GPC] Case 1: Preconditioning\n",
      "\n",
      "Iteration 0\n",
      "x = tensor([ 0.2711, -0.8387, -0.6032, -0.6463,  0.6781,  0.4354])\n",
      "actions = \n",
      " None\n",
      "K_op_actions = \n",
      " None\n",
      "\n",
      "Iteration 1\n",
      "x = tensor([ 0.2790, -0.7570, -0.4594, -0.7846,  0.7216,  0.3549])\n",
      "actions = \n",
      " tensor([[ 0.0638],\n",
      "        [-0.0091],\n",
      "        [ 0.1574],\n",
      "        [-0.1289],\n",
      "        [-0.0079],\n",
      "        [-0.0182]])\n",
      "K_op_actions = \n",
      " tensor([[ 0.1871],\n",
      "        [-0.0831],\n",
      "        [ 0.1930],\n",
      "        [-0.1065],\n",
      "        [-0.0762],\n",
      "        [ 0.0609]])\n",
      "\n",
      "Iteration 2\n",
      "x = tensor([ 4.9779, -0.2487, -3.8829, -3.3301, -2.5527, -5.8756])\n",
      "actions = \n",
      " tensor([[ 0.0638, -0.1158],\n",
      "        [-0.0091,  0.0184],\n",
      "        [ 0.1574, -0.3255],\n",
      "        [-0.1289,  0.2533],\n",
      "        [-0.0079,  0.0070],\n",
      "        [-0.0182,  0.0218]])\n",
      "K_op_actions = \n",
      " tensor([[ 0.1871, -0.3710],\n",
      "        [-0.0831,  0.1641],\n",
      "        [ 0.1930, -0.3955],\n",
      "        [-0.1065,  0.2035],\n",
      "        [-0.0762,  0.1350],\n",
      "        [ 0.0609, -0.1399]])\n",
      "\n",
      "Iteration 3\n",
      "x = tensor([ 57.0261,   7.3530, -12.9444,   6.6513,   6.3482, -39.3875])\n",
      "actions = \n",
      " tensor([[ 6.3772e-02, -1.1577e-01,  1.0543e+00],\n",
      "        [-9.1226e-03,  1.8412e-02,  8.4149e-01],\n",
      "        [ 1.5744e-01, -3.2550e-01,  4.4007e+00],\n",
      "        [-1.2892e-01,  2.5329e-01,  5.5194e+00],\n",
      "        [-7.9126e-03,  6.9511e-03,  7.0982e+00],\n",
      "        [-1.8231e-02,  2.1810e-02,  4.2002e+00]])\n",
      "K_op_actions = \n",
      " tensor([[ 0.1871, -0.3710,  4.1747],\n",
      "        [-0.0831,  0.1641,  1.0671],\n",
      "        [ 0.1930, -0.3955,  6.4444],\n",
      "        [-0.1065,  0.2035,  7.0429],\n",
      "        [-0.0762,  0.1350, 12.8536],\n",
      "        [ 0.0609, -0.1399,  8.6504]])\n"
     ]
    }
   ],
   "source": [
    "actions = solver_state.cache[\"actions\"]\n",
    "K_op_actions = solver_state.cache[\"K_op_actions\"]\n",
    "\n",
    "pls = PLS_GPC(policy=GradientPolicy(), max_iter=N)\n",
    "\n",
    "with torch.no_grad():\n",
    "    solve_iterator = pls.solve_iterator(\n",
    "        K, \n",
    "        Winv, \n",
    "        rhs, \n",
    "        actions=actions, \n",
    "        K_op_actions=K_op_actions\n",
    "    )\n",
    "    \n",
    "    for solver_state in solve_iterator:\n",
    "        print(\"\\nIteration\", solver_state.iteration)\n",
    "        print(\"x =\", solver_state.solution)\n",
    "        print(\"actions = \\n\", solver_state.cache[\"actions\"])\n",
    "        print(\"K_op_actions = \\n\", solver_state.cache[\"K_op_actions\"])"
   ]
  },
  {
   "cell_type": "code",
   "execution_count": null,
   "id": "e1b44601",
   "metadata": {},
   "outputs": [],
   "source": []
  }
 ],
 "metadata": {
  "kernelspec": {
   "display_name": "Python 3 (ipykernel)",
   "language": "python",
   "name": "python3"
  },
  "language_info": {
   "codemirror_mode": {
    "name": "ipython",
    "version": 3
   },
   "file_extension": ".py",
   "mimetype": "text/x-python",
   "name": "python",
   "nbconvert_exporter": "python",
   "pygments_lexer": "ipython3",
   "version": "3.10.9"
  }
 },
 "nbformat": 4,
 "nbformat_minor": 5
}
